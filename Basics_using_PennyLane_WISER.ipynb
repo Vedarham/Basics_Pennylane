{
  "nbformat": 4,
  "nbformat_minor": 0,
  "metadata": {
    "colab": {
      "provenance": [],
      "authorship_tag": "ABX9TyNcO4Hzpt2caKGaqsM1zQky",
      "include_colab_link": true
    },
    "kernelspec": {
      "name": "python3",
      "display_name": "Python 3"
    },
    "language_info": {
      "name": "python"
    }
  },
  "cells": [
    {
      "cell_type": "markdown",
      "metadata": {
        "id": "view-in-github",
        "colab_type": "text"
      },
      "source": [
        "<a href=\"https://colab.research.google.com/github/Vedarham/Basics_Pennylane/blob/main/Basics_using_PennyLane_WISER.ipynb\" target=\"_parent\"><img src=\"https://colab.research.google.com/assets/colab-badge.svg\" alt=\"Open In Colab\"/></a>"
      ]
    },
    {
      "cell_type": "code",
      "execution_count": null,
      "metadata": {
        "colab": {
          "base_uri": "https://localhost:8080/"
        },
        "id": "CVTDv8watjQf",
        "outputId": "51ca0646-c7fd-4987-e4bd-7837bde6f8bb"
      },
      "outputs": [
        {
          "output_type": "stream",
          "name": "stdout",
          "text": [
            "Requirement already satisfied: pennylane in /usr/local/lib/python3.11/dist-packages (0.41.1)\n",
            "Requirement already satisfied: numpy in /usr/local/lib/python3.11/dist-packages (from pennylane) (2.0.2)\n",
            "Requirement already satisfied: scipy in /usr/local/lib/python3.11/dist-packages (from pennylane) (1.15.3)\n",
            "Requirement already satisfied: networkx in /usr/local/lib/python3.11/dist-packages (from pennylane) (3.5)\n",
            "Requirement already satisfied: rustworkx>=0.14.0 in /usr/local/lib/python3.11/dist-packages (from pennylane) (0.16.0)\n",
            "Requirement already satisfied: autograd in /usr/local/lib/python3.11/dist-packages (from pennylane) (1.8.0)\n",
            "Requirement already satisfied: tomlkit in /usr/local/lib/python3.11/dist-packages (from pennylane) (0.13.2)\n",
            "Requirement already satisfied: appdirs in /usr/local/lib/python3.11/dist-packages (from pennylane) (1.4.4)\n",
            "Requirement already satisfied: autoray>=0.6.11 in /usr/local/lib/python3.11/dist-packages (from pennylane) (0.7.1)\n",
            "Requirement already satisfied: cachetools in /usr/local/lib/python3.11/dist-packages (from pennylane) (5.5.2)\n",
            "Requirement already satisfied: pennylane-lightning>=0.41 in /usr/local/lib/python3.11/dist-packages (from pennylane) (0.41.1)\n",
            "Requirement already satisfied: requests in /usr/local/lib/python3.11/dist-packages (from pennylane) (2.32.3)\n",
            "Requirement already satisfied: typing-extensions in /usr/local/lib/python3.11/dist-packages (from pennylane) (4.14.0)\n",
            "Requirement already satisfied: packaging in /usr/local/lib/python3.11/dist-packages (from pennylane) (24.2)\n",
            "Requirement already satisfied: diastatic-malt in /usr/local/lib/python3.11/dist-packages (from pennylane) (2.15.2)\n",
            "Requirement already satisfied: scipy-openblas32>=0.3.26 in /usr/local/lib/python3.11/dist-packages (from pennylane-lightning>=0.41->pennylane) (0.3.29.265.1)\n",
            "Requirement already satisfied: astunparse in /usr/local/lib/python3.11/dist-packages (from diastatic-malt->pennylane) (1.6.3)\n",
            "Requirement already satisfied: gast in /usr/local/lib/python3.11/dist-packages (from diastatic-malt->pennylane) (0.6.0)\n",
            "Requirement already satisfied: termcolor in /usr/local/lib/python3.11/dist-packages (from diastatic-malt->pennylane) (3.1.0)\n",
            "Requirement already satisfied: charset-normalizer<4,>=2 in /usr/local/lib/python3.11/dist-packages (from requests->pennylane) (3.4.2)\n",
            "Requirement already satisfied: idna<4,>=2.5 in /usr/local/lib/python3.11/dist-packages (from requests->pennylane) (3.10)\n",
            "Requirement already satisfied: urllib3<3,>=1.21.1 in /usr/local/lib/python3.11/dist-packages (from requests->pennylane) (2.4.0)\n",
            "Requirement already satisfied: certifi>=2017.4.17 in /usr/local/lib/python3.11/dist-packages (from requests->pennylane) (2025.4.26)\n",
            "Requirement already satisfied: wheel<1.0,>=0.23.0 in /usr/local/lib/python3.11/dist-packages (from astunparse->diastatic-malt->pennylane) (0.45.1)\n",
            "Requirement already satisfied: six<2.0,>=1.6.1 in /usr/local/lib/python3.11/dist-packages (from astunparse->diastatic-malt->pennylane) (1.17.0)\n"
          ]
        }
      ],
      "source": [
        "# Introduction to Quantum Computing with PennyLane\n",
        "# Install & Import PennyLane\n",
        "# Task : create a Bell State using a circuit in PennyLane\n",
        "\n",
        "!pip install pennylane"
      ]
    },
    {
      "cell_type": "code",
      "source": [
        "import pennylane as qml\n",
        "from pennylane import numpy as np"
      ],
      "metadata": {
        "id": "s-0_vIRUutme"
      },
      "execution_count": null,
      "outputs": []
    },
    {
      "cell_type": "code",
      "source": [
        "qml.about() # check installation and import"
      ],
      "metadata": {
        "colab": {
          "base_uri": "https://localhost:8080/"
        },
        "id": "Vu1LwziHvltu",
        "outputId": "040abdab-5136-4174-bebf-faafd340aaa5"
      },
      "execution_count": null,
      "outputs": [
        {
          "output_type": "stream",
          "name": "stdout",
          "text": [
            "Name: PennyLane\n",
            "Version: 0.41.1\n",
            "Summary: PennyLane is a cross-platform Python library for quantum computing, quantum machine learning, and quantum chemistry. Train a quantum computer the same way as a neural network.\n",
            "Home-page: https://github.com/PennyLaneAI/pennylane\n",
            "Author: \n",
            "Author-email: \n",
            "License: Apache License 2.0\n",
            "Location: /usr/local/lib/python3.11/dist-packages\n",
            "Requires: appdirs, autograd, autoray, cachetools, diastatic-malt, networkx, numpy, packaging, pennylane-lightning, requests, rustworkx, scipy, tomlkit, typing-extensions\n",
            "Required-by: PennyLane_Lightning\n",
            "\n",
            "Platform info:           Linux-6.1.123+-x86_64-with-glibc2.35\n",
            "Python version:          3.11.13\n",
            "Numpy version:           2.0.2\n",
            "Scipy version:           1.15.3\n",
            "Installed devices:\n",
            "- default.clifford (PennyLane-0.41.1)\n",
            "- default.gaussian (PennyLane-0.41.1)\n",
            "- default.mixed (PennyLane-0.41.1)\n",
            "- default.qubit (PennyLane-0.41.1)\n",
            "- default.qutrit (PennyLane-0.41.1)\n",
            "- default.qutrit.mixed (PennyLane-0.41.1)\n",
            "- default.tensor (PennyLane-0.41.1)\n",
            "- null.qubit (PennyLane-0.41.1)\n",
            "- reference.qubit (PennyLane-0.41.1)\n",
            "- lightning.qubit (PennyLane_Lightning-0.41.1)\n"
          ]
        }
      ]
    },
    {
      "cell_type": "code",
      "source": [
        "#Checklist : installed , imported , checked them as well\n",
        "\n",
        "# Define Backend : find devices and tie them\n",
        "# 2 show a bell state\n",
        "dev1 = qml.device(\"default.qubit\", wires = 2)"
      ],
      "metadata": {
        "id": "fxOc8F9jyDjh"
      },
      "execution_count": null,
      "outputs": []
    },
    {
      "cell_type": "code",
      "source": [
        "# Define a QNode with Circuit that creates a Bell State\n",
        "# Hadamard creates a superposition and o/p with CNOt gates create an entaglement creating a Bell State\n",
        "@qml.qnode(dev1)\n",
        "def circuit():  # Creating a bell state\n",
        "  qml.Hadamard(wires = [0]) # why use Arrray ?\n",
        "  qml.CNOT(wires = [0,1])   # 0 as control, 1 as target\n",
        "  return qml.probs()"
      ],
      "metadata": {
        "id": "MLT_ufb4yfSs"
      },
      "execution_count": null,
      "outputs": []
    },
    {
      "cell_type": "code",
      "source": [],
      "metadata": {
        "id": "TMwec47i0HOT"
      },
      "execution_count": null,
      "outputs": []
    },
    {
      "cell_type": "code",
      "source": [
        "qml.draw_mpl(circuit, style='pennylane')() # many styling options"
      ],
      "metadata": {
        "colab": {
          "base_uri": "https://localhost:8080/",
          "height": 354
        },
        "id": "qJ0d6AO3zJwq",
        "outputId": "49fff1b7-52a8-40eb-b142-3f76f45431da"
      },
      "execution_count": null,
      "outputs": [
        {
          "output_type": "execute_result",
          "data": {
            "text/plain": [
              "(<Figure size 500x300 with 1 Axes>, <Axes: >)"
            ]
          },
          "metadata": {},
          "execution_count": 23
        },
        {
          "output_type": "display_data",
          "data": {
            "text/plain": [
              "<Figure size 500x300 with 1 Axes>"
            ],
            "image/png": "[encoded data removed]"
          },
          "metadata": {}
        }
      ]
    },
    {
      "cell_type": "code",
      "source": [
        "%%timeit\n",
        "circuit() # Exe. a circuit , which returns us probability of Bell State"
      ],
      "metadata": {
        "colab": {
          "base_uri": "https://localhost:8080/"
        },
        "id": "-tNelIAUzS9X",
        "outputId": "0c8780e8-c0d0-4f66-9ccc-f0729ec703b8"
      },
      "execution_count": null,
      "outputs": [
        {
          "output_type": "stream",
          "name": "stdout",
          "text": [
            "1.24 ms ± 177 µs per loop (mean ± std. dev. of 7 runs, 1000 loops each)\n"
          ]
        }
      ]
    },
    {
      "cell_type": "code",
      "source": [
        "# 50% probab of observing state 00 , 0% of 01 , 0% of 10 , 50% of 11"
      ],
      "metadata": {
        "id": "Il0olQUuziOQ"
      },
      "execution_count": null,
      "outputs": []
    },
    {
      "cell_type": "code",
      "source": [
        "# Changing backend === changing device\n",
        "\n",
        "dev = qml.device('lightning.qubit',wires=2)\n",
        "@qml.qnode(dev)\n",
        "def circuit():  # Creating a bell state\n",
        "  qml.Hadamard(wires = [0]) # why use Arrray ?\n",
        "  qml.CNOT(wires = [0,1])   # 0 as control, 1 as target\n",
        "  return qml.probs()\n"
      ],
      "metadata": {
        "id": "PwY2giCoz09l"
      },
      "execution_count": null,
      "outputs": []
    },
    {
      "cell_type": "code",
      "source": [
        "\n",
        "qml.draw_mpl(circuit, style='pennylane')()"
      ],
      "metadata": {
        "colab": {
          "base_uri": "https://localhost:8080/",
          "height": 354
        },
        "id": "x0Pm0fHC0K9P",
        "outputId": "2e7489ae-a09e-4c5d-f332-0548e80ee151"
      },
      "execution_count": null,
      "outputs": [
        {
          "output_type": "execute_result",
          "data": {
            "text/plain": [
              "(<Figure size 500x300 with 1 Axes>, <Axes: >)"
            ]
          },
          "metadata": {},
          "execution_count": 28
        },
        {
          "output_type": "display_data",
          "data": {
            "text/plain": [
              "<Figure size 500x300 with 1 Axes>"
            ],
            "image/png": "[encoded data removed]"
          },
          "metadata": {}
        }
      ]
    },
    {
      "cell_type": "code",
      "source": [
        "%%timeit\n",
        "circuit()"
      ],
      "metadata": {
        "colab": {
          "base_uri": "https://localhost:8080/"
        },
        "id": "SjVcw95C0RlS",
        "outputId": "94cac951-385f-4238-db0c-5264fd2b7e97"
      },
      "execution_count": null,
      "outputs": [
        {
          "output_type": "stream",
          "name": "stdout",
          "text": [
            "847 µs ± 13.2 µs per loop (mean ± std. dev. of 7 runs, 1000 loops each)\n"
          ]
        }
      ]
    },
    {
      "cell_type": "code",
      "source": [
        "# Introducing Shots : \"repeating\"\n",
        "dev = qml.device('lightning.qubit',wires=2,shots=100)\n",
        "@qml.qnode(dev)\n",
        "def circuit():  # Creating a bell state\n",
        "  qml.Hadamard(wires = [0]) # why use Arrray ?\n",
        "  qml.CNOT(wires = [0,1])   # 0 as control, 1 as target\n",
        "  return qml.probs()"
      ],
      "metadata": {
        "id": "jnW7S56Y0ffu"
      },
      "execution_count": null,
      "outputs": []
    },
    {
      "cell_type": "code",
      "source": [
        "circuit()"
      ],
      "metadata": {
        "colab": {
          "base_uri": "https://localhost:8080/"
        },
        "id": "LRLrIm4J1KTm",
        "outputId": "df2f1ed5-7348-4fd4-dc4d-4fc00dd39afb"
      },
      "execution_count": null,
      "outputs": [
        {
          "output_type": "execute_result",
          "data": {
            "text/plain": [
              "array([0.58, 0.  , 0.  , 0.42])"
            ]
          },
          "metadata": {},
          "execution_count": 31
        }
      ]
    },
    {
      "cell_type": "code",
      "source": [
        "# Introducing Sub Circuit\n",
        "def subcircuits(x):\n",
        "  qml.RX(x,wires=0)\n",
        "\n",
        "dev = qml.device('lightning.qubit',wires=2)\n",
        "@qml.qnode(dev)\n",
        "def circuit(params):\n",
        "  for i in range(2):\n",
        "    subcircuits(1*params[0])\n",
        "  return qml.probs()\n",
        "\n",
        "qml.draw_mpl(circuit,decimals=1, style='pennylane')()"
      ],
      "metadata": {
        "id": "zcje8Pe31L8S"
      },
      "execution_count": null,
      "outputs": []
    }
  ]
}